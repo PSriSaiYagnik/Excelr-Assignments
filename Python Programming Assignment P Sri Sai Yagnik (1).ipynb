{
 "cells": [
  {
   "cell_type": "markdown",
   "id": "f34860b1-723b-4e47-bbea-a922071bfde0",
   "metadata": {},
   "source": [
    "### Exercise 1: Prime Numbers\n",
    "Write a Python program that checks whether a given number is prime or not. A prime number is a natural number greater than 1 that has no positive divisors other than 1 and itself."
   ]
  },
  {
   "cell_type": "code",
   "execution_count": 6,
   "id": "d928edb0-b9cd-4fca-8fde-b6437671ec0a",
   "metadata": {},
   "outputs": [
    {
     "name": "stdin",
     "output_type": "stream",
     "text": [
      " 7\n"
     ]
    },
    {
     "name": "stdout",
     "output_type": "stream",
     "text": [
      "Prime Number\n"
     ]
    }
   ],
   "source": [
    "n = int(input())\n",
    "count = 0\n",
    "for i in range(1,n+1):\n",
    "    if(n%i==0):\n",
    "        count = count + 1\n",
    "if(count == 2):\n",
    "    print(\"Prime Number\")\n",
    "else:\n",
    "    print(\"Not a Prime Number\")\n",
    "    "
   ]
  },
  {
   "cell_type": "markdown",
   "id": "29729d8c-a236-4520-bf5f-d8ccc56787e9",
   "metadata": {},
   "source": [
    "### Exercise 2: Product of Random Numbers\n",
    "Develop a Python program that generates two random numbers and asks the user to enter the product of these numbers. The program should then check if the user's answer is correct and display an appropriate message."
   ]
  },
  {
   "cell_type": "code",
   "execution_count": 13,
   "id": "55d705f3-5805-47b5-8043-63ea3e7beb5b",
   "metadata": {},
   "outputs": [
    {
     "name": "stdout",
     "output_type": "stream",
     "text": [
      "What is 3 * 9 ?\n"
     ]
    },
    {
     "name": "stdin",
     "output_type": "stream",
     "text": [
      " 25\n"
     ]
    },
    {
     "name": "stdout",
     "output_type": "stream",
     "text": [
      "You are Wrong\n"
     ]
    }
   ],
   "source": [
    "import random\n",
    "\n",
    "a = random.randint(1,10)\n",
    "b = random.randint(1,10)\n",
    "\n",
    "print(\"What is\", a,\"*\",b,\"?\")\n",
    "my_ans = int(input())\n",
    "\n",
    "correct_ans = a*b\n",
    "if(my_ans == correct_ans):\n",
    "    print(\"You are Right\")\n",
    "else:\n",
    "    print(\"You are Wrong\")"
   ]
  },
  {
   "cell_type": "markdown",
   "id": "823e4526-2db0-4405-b284-8414cd00f298",
   "metadata": {},
   "source": [
    "### Exercise 3: Squares of Even/Odd Numbers\n",
    "Create a Python script that prints the squares of all even or odd numbers within the range of 100 to 200. Choose either even or odd numbers and document your choice in the code."
   ]
  },
  {
   "cell_type": "code",
   "execution_count": 20,
   "id": "0f13e28f-995c-42c7-a08d-2ab165dc1940",
   "metadata": {},
   "outputs": [
    {
     "name": "stdout",
     "output_type": "stream",
     "text": [
      "10000\n",
      "10404\n",
      "10816\n",
      "11236\n",
      "11664\n",
      "12100\n",
      "12544\n",
      "12996\n",
      "13456\n",
      "13924\n",
      "14400\n",
      "14884\n",
      "15376\n",
      "15876\n",
      "16384\n",
      "16900\n",
      "17424\n",
      "17956\n",
      "18496\n",
      "19044\n",
      "19600\n",
      "20164\n",
      "20736\n",
      "21316\n",
      "21904\n",
      "22500\n",
      "23104\n",
      "23716\n",
      "24336\n",
      "24964\n",
      "25600\n",
      "26244\n",
      "26896\n",
      "27556\n",
      "28224\n",
      "28900\n",
      "29584\n",
      "30276\n",
      "30976\n",
      "31684\n",
      "32400\n",
      "33124\n",
      "33856\n",
      "34596\n",
      "35344\n",
      "36100\n",
      "36864\n",
      "37636\n",
      "38416\n",
      "39204\n",
      "40000\n"
     ]
    }
   ],
   "source": [
    "# Even Numbers\n",
    "for i in range(100,201):\n",
    "    if(i%2==0):\n",
    "        print(i**2)"
   ]
  },
  {
   "cell_type": "markdown",
   "id": "131844fe-17ad-43d7-a531-186ac25ea4bc",
   "metadata": {},
   "source": [
    "### Exercise 4: Problem Statement (Question): Hospital Billing System\n",
    "✅ Problem Statement (Question): Hospital Billing System/\n",
    "A hospital charges its patients based on the following:\n",
    "•\tRoom charges per day: ₹2,000\n",
    "•\tDoctor consultation fee (flat): ₹1,500\n",
    "•\tLab test charges: Based on the number of tests taken. Each test costs ₹300\n",
    "•\tMedicine charges: Total cost of medicines provided\n",
    "•\tDiscount: If the total bill (before discount) exceeds ₹10,000, a 10% discount is applied\n",
    "Write a Python program to calculate the final bill for a patient who:\n",
    "•\tStayed for 4 days\n",
    "•\tHad 3 lab tests\n",
    "•\tHad medicine charges of ₹2,400\n"
   ]
  },
  {
   "cell_type": "code",
   "execution_count": 26,
   "id": "3220cb83-0fb9-46a3-ba91-f0f9defee802",
   "metadata": {},
   "outputs": [
    {
     "name": "stdin",
     "output_type": "stream",
     "text": [
      " 4\n",
      " 3\n",
      " 2400\n"
     ]
    },
    {
     "name": "stdout",
     "output_type": "stream",
     "text": [
      "The Final bill is ₹11520.0\n"
     ]
    }
   ],
   "source": [
    "stay = int(input()) * 2000\n",
    "doc_fee = 1500\n",
    "lab = int(input()) * 300\n",
    "med = int(input())\n",
    "final_bill = stay + doc_fee + lab + med\n",
    "if(final_bill>10000):\n",
    "    final_bill = final_bill * 90/100\n",
    "print(f\"The Final bill is ₹{final_bill}\")"
   ]
  }
 ],
 "metadata": {
  "kernelspec": {
   "display_name": "Python [conda env:base] *",
   "language": "python",
   "name": "conda-base-py"
  },
  "language_info": {
   "codemirror_mode": {
    "name": "ipython",
    "version": 3
   },
   "file_extension": ".py",
   "mimetype": "text/x-python",
   "name": "python",
   "nbconvert_exporter": "python",
   "pygments_lexer": "ipython3",
   "version": "3.12.7"
  }
 },
 "nbformat": 4,
 "nbformat_minor": 5
}
