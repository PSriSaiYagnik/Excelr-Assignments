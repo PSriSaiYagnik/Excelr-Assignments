{
 "cells": [
  {
   "cell_type": "markdown",
   "id": "eadcc5bb-d11d-4073-95cf-99ae0917286a",
   "metadata": {},
   "source": [
    "### Section A: Data Structures & Control Structures\n",
    "##### 1.\tCreate a list of 5 integers. Perform and print the result of the following operations: append, extend, insert, remove, pop, clear, index, count, sort, and reverse.\n"
   ]
  },
  {
   "cell_type": "code",
   "execution_count": 21,
   "id": "b30d81e3-a38f-4f4e-80d8-2b3d6310ad9b",
   "metadata": {},
   "outputs": [
    {
     "name": "stdout",
     "output_type": "stream",
     "text": [
      "Append : [1, 3, 5, 7, 9, 11]\n",
      "Extend : [1, 3, 5, 7, 9, 11, 13, 15]\n",
      "Insert : [1, 3, 17, 5, 7, 9, 11, 13, 15]\n",
      "Remove : [1, 17, 5, 7, 9, 11, 13, 15]\n",
      "Pop : 15\n",
      "Clear : []\n",
      "Count : 2\n",
      "Sort : [1, 2, 2, 4, 5]\n",
      "Reverse : [5, 4, 2, 2, 1]\n"
     ]
    }
   ],
   "source": [
    "list1 = [1,3,5,7,9]\n",
    "\n",
    "list1.append(11) #adding a number at last\n",
    "print(f'Append : {list1}')\n",
    "\n",
    "list1.extend([13,15]) # adding multiple numbers\n",
    "print(f'Extend : {list1}')\n",
    "\n",
    "list1.insert(2,17) # adding numbers at a certain index\n",
    "print(f'Insert : {list1}')\n",
    "\n",
    "list1.remove(3) \n",
    "print(f'Remove : {list1}')\n",
    "\n",
    "popped = list1.pop()\n",
    "print(f'Pop : {popped}')\n",
    "\n",
    "list1.clear()\n",
    "print(f'Clear : {list1}')\n",
    "\n",
    "list2 = [2,2,5,4,1]\n",
    "\n",
    "counts = list2.count(2)\n",
    "print(f'Count : {counts}')\n",
    "\n",
    "list2.sort()\n",
    "print(f'Sort : {list2}')\n",
    "\n",
    "list2.reverse()\n",
    "print(f'Reverse : {list2}')"
   ]
  },
  {
   "cell_type": "markdown",
   "id": "be96efff-1fb2-49bb-a2fc-4a74b81a49fa",
   "metadata": {},
   "source": [
    "##### 2.\tCreate a tuple that stores 3 student names. Try changing the second name in the tuple. What happens? Explain why."
   ]
  },
  {
   "cell_type": "code",
   "execution_count": 23,
   "id": "f586b8ce-0bf8-4d59-b36e-6313f0fd227c",
   "metadata": {},
   "outputs": [
    {
     "ename": "TypeError",
     "evalue": "'tuple' object does not support item assignment",
     "output_type": "error",
     "traceback": [
      "\u001b[1;31m---------------------------------------------------------------------------\u001b[0m",
      "\u001b[1;31mTypeError\u001b[0m                                 Traceback (most recent call last)",
      "Cell \u001b[1;32mIn[23], line 2\u001b[0m\n\u001b[0;32m      1\u001b[0m tup \u001b[38;5;241m=\u001b[39m (\u001b[38;5;124m'\u001b[39m\u001b[38;5;124mSri\u001b[39m\u001b[38;5;124m'\u001b[39m,\u001b[38;5;124m'\u001b[39m\u001b[38;5;124mSai\u001b[39m\u001b[38;5;124m'\u001b[39m,\u001b[38;5;124m'\u001b[39m\u001b[38;5;124mYagnik\u001b[39m\u001b[38;5;124m'\u001b[39m)\n\u001b[1;32m----> 2\u001b[0m tup[\u001b[38;5;241m1\u001b[39m] \u001b[38;5;241m=\u001b[39m \u001b[38;5;124m'\u001b[39m\u001b[38;5;124mPerisetla\u001b[39m\u001b[38;5;124m'\u001b[39m\n\u001b[0;32m      3\u001b[0m \u001b[38;5;28mprint\u001b[39m(tup)\n",
      "\u001b[1;31mTypeError\u001b[0m: 'tuple' object does not support item assignment"
     ]
    }
   ],
   "source": [
    "tup = ('Sri','Sai','Yagnik')\n",
    "tup[1] = 'Perisetla'\n",
    "print(tup)\n",
    "### Explanation: It throws an errors because Tuple is immutable and cannot be changed"
   ]
  },
  {
   "cell_type": "markdown",
   "id": "9d6c8482-e4f2-403c-8c5e-cb11d627a21c",
   "metadata": {},
   "source": [
    "##### 3.\tCreate a set of integers with some duplicate values. Print the set and explain the output."
   ]
  },
  {
   "cell_type": "code",
   "execution_count": 26,
   "id": "31e55a8b-df92-4ea0-93f1-f620002d74e1",
   "metadata": {},
   "outputs": [
    {
     "name": "stdout",
     "output_type": "stream",
     "text": [
      "{1, 2, 3, 4, 5}\n"
     ]
    }
   ],
   "source": [
    "set1 = {1,2,2,3,3,3,4,4,4,4,5}\n",
    "print(set1)\n",
    "### Explanation: A set in Python is an unordered collection of unique elements."
   ]
  },
  {
   "cell_type": "markdown",
   "id": "2f7d1670-4919-47ba-ad1e-de598eb192a7",
   "metadata": {},
   "source": [
    "##### 4.\tCreate a dictionary with the keys: 'name', 'age', and 'city'. Update the age and add a new key 'email'. Print the final dictionary."
   ]
  },
  {
   "cell_type": "code",
   "execution_count": 29,
   "id": "b8906379-c10c-411e-bf03-e47f4f982d57",
   "metadata": {},
   "outputs": [
    {
     "name": "stdout",
     "output_type": "stream",
     "text": [
      "Orignial Dictionary: {'Name': 'sai yagnik', 'Age': 21, 'City': 'Banglore'}\n",
      "Updated Age: {'Name': 'sai yagnik', 'Age': 23, 'City': 'Banglore'}\n",
      "Updated Dictionary: {'Name': 'sai yagnik', 'Age': 23, 'City': 'Banglore', 'Email': 'saiyagnik00@gmail.com'}\n"
     ]
    }
   ],
   "source": [
    "dict1 = {'Name': 'sai yagnik','Age':21,'City': 'Banglore'}\n",
    "print(f\"Orignial Dictionary: {dict1}\")\n",
    "\n",
    "dict1['Age'] = 23\n",
    "print(f\"Updated Age: {dict1}\")\n",
    "\n",
    "dict1['Email'] = 'saiyagnik00@gmail.com'\n",
    "print(f\"Updated Dictionary: {dict1}\")"
   ]
  },
  {
   "cell_type": "markdown",
   "id": "9551a5b2-4b43-43a0-bea8-1adc6f8796d2",
   "metadata": {},
   "source": [
    "##### 5. Write a script that checks if a person is eligible to vote (age ≥ 18). Take age as a variable and print the appropriate message."
   ]
  },
  {
   "cell_type": "code",
   "execution_count": 33,
   "id": "82d20e82-1255-47c4-8845-25f84b7d04c8",
   "metadata": {},
   "outputs": [
    {
     "name": "stdin",
     "output_type": "stream",
     "text": [
      "Enter the Age:  19\n"
     ]
    },
    {
     "name": "stdout",
     "output_type": "stream",
     "text": [
      "You are Eligible to Vote\n"
     ]
    }
   ],
   "source": [
    "age = int(input(\"Enter the Age: \"))\n",
    "if age>=18:\n",
    "    print(\"You are Eligible to Vote\")\n",
    "else:\n",
    "    print(\"You are not Eligible to Vote\")"
   ]
  },
  {
   "cell_type": "markdown",
   "id": "07c5b375-7557-4aab-8a92-d11343b37ee5",
   "metadata": {},
   "source": [
    "##### 6.\tGiven a 'marks' variable, print the grade:\n",
    "- 90 and above: 'A'\n",
    "- 75–89: 'B'\n",
    "- 50–74: 'C'\n",
    "- Below 50: 'Fail'\n"
   ]
  },
  {
   "cell_type": "code",
   "execution_count": 40,
   "id": "153a6bda-7833-4d6b-8016-3faab53cfed7",
   "metadata": {},
   "outputs": [
    {
     "name": "stdin",
     "output_type": "stream",
     "text": [
      "Enter your Marks:  49\n"
     ]
    },
    {
     "name": "stdout",
     "output_type": "stream",
     "text": [
      "Fail\n"
     ]
    }
   ],
   "source": [
    "marks = int(input(\"Enter your Marks: \"))\n",
    "if(marks>=90):\n",
    "    print(\"A\")\n",
    "elif(marks<90 and marks>=75):\n",
    "    print(\"B\")\n",
    "elif(marks<75 and marks>=50):\n",
    "    print(\"C\")\n",
    "else:\n",
    "    print(\"Fail\")"
   ]
  },
  {
   "cell_type": "markdown",
   "id": "817ad673-e271-47b3-9831-ab1a42175e25",
   "metadata": {},
   "source": [
    "##### 7.\tGiven a number, check if it's positive, and if it is also even. If not positive, print if it's zero or negative."
   ]
  },
  {
   "cell_type": "code",
   "execution_count": 46,
   "id": "b8ed4422-6c8b-48d2-afcc-e948b2999885",
   "metadata": {},
   "outputs": [
    {
     "name": "stdin",
     "output_type": "stream",
     "text": [
      "Enter the Number:  15\n"
     ]
    },
    {
     "name": "stdout",
     "output_type": "stream",
     "text": [
      "The number is Positive but Odd\n"
     ]
    }
   ],
   "source": [
    "number = int(input(\"Enter the Number: \"))\n",
    "if(number>0 and number%2==0):\n",
    "    print(\"The number is Positive and Even\")\n",
    "elif(number<0):\n",
    "    print(\"The number is Negative\")\n",
    "elif(number==0):\n",
    "    print(\"The number is zero\")\n",
    "else:\n",
    "    print(\"The number is Positive but Odd\")"
   ]
  },
  {
   "cell_type": "markdown",
   "id": "37c0a68d-ac2d-4fed-b0ca-d40a5ac31605",
   "metadata": {},
   "source": [
    "#### Section B: Numpy"
   ]
  },
  {
   "cell_type": "markdown",
   "id": "15457ec5-350f-4b9d-8044-26958a52eb44",
   "metadata": {},
   "source": [
    "##### 8.\tCreate:\n",
    "- A scalar using np.array(5)\n",
    "- A 1D array with values 1 to 5\n",
    "- A 2D array (2x3) with values from 10 to 60 in steps of 10\n"
   ]
  },
  {
   "cell_type": "code",
   "execution_count": 51,
   "id": "17f6f8a9-4ed6-416e-9a4a-7486b11cebef",
   "metadata": {},
   "outputs": [
    {
     "name": "stdout",
     "output_type": "stream",
     "text": [
      "Scalar:  5\n",
      "1 Dimensional Array:  [4 2 3 1 5]\n",
      "2 Dimensional Array: \n",
      " [[10 40 30]\n",
      " [20 60 50]]\n"
     ]
    }
   ],
   "source": [
    "import numpy as np\n",
    "\n",
    "scalar = np.array(5)\n",
    "print(\"Scalar: \",scalar)\n",
    "\n",
    "oned_arr = np.array([4,2,3,1,5])\n",
    "print(\"1 Dimensional Array: \",oned_arr)\n",
    "\n",
    "twod_arr = np.array([[10,40,30],[20,60,50]])\n",
    "print(\"2 Dimensional Array: \\n\",twod_arr)"
   ]
  },
  {
   "cell_type": "markdown",
   "id": "e05fc937-5ca6-462c-ae8c-f1b093de1790",
   "metadata": {},
   "source": [
    "##### 9.\tGenerate a 4x4 Numpy array of random integers between 0 and 100 using np.random.randint()."
   ]
  },
  {
   "cell_type": "code",
   "execution_count": 54,
   "id": "34182740-94b8-4343-ba4b-cb88edc5b5ef",
   "metadata": {},
   "outputs": [
    {
     "name": "stdout",
     "output_type": "stream",
     "text": [
      "4x4 Numpy array: \n",
      " [[ 1 24 89 95]\n",
      " [17 59 71 43]\n",
      " [77 84 68 53]\n",
      " [43 62 58 85]]\n"
     ]
    }
   ],
   "source": [
    "array = np.random.randint(0,100,16).reshape(4,4)\n",
    "print(\"4x4 Numpy array: \\n\", array)"
   ]
  },
  {
   "cell_type": "markdown",
   "id": "34d0f24a-0e20-49d1-a3f1-998228586503",
   "metadata": {},
   "source": [
    "##### 10.\tCreate a 2D numpy array of shape (3x3). Convert it into a pandas DataFrame and add column names: 'A', 'B', 'C'."
   ]
  },
  {
   "cell_type": "code",
   "execution_count": 69,
   "id": "281a1221-1281-46c1-af2e-48f4b523b57a",
   "metadata": {},
   "outputs": [
    {
     "name": "stdout",
     "output_type": "stream",
     "text": [
      "NumPy Array:\n",
      "[[1 4 3]\n",
      " [2 6 5]\n",
      " [8 7 9]]\n",
      "Data Frame:\n",
      "   A  B  C\n",
      "0  1  4  3\n",
      "1  2  6  5\n",
      "2  8  7  9\n"
     ]
    }
   ],
   "source": [
    "import pandas as pd\n",
    "\n",
    "twod_arr = np.array([[1,4,3],[2,6,5],[8,7,9]])\n",
    "print(\"NumPy Array:\")\n",
    "print(twod_arr)\n",
    "\n",
    "df = pd.DataFrame(twod_arr,columns=['A','B','C'])\n",
    "print(\"Data Frame:\")\n",
    "print(df)"
   ]
  },
  {
   "cell_type": "markdown",
   "id": "e54de658-c96f-4166-bdac-6a05b806c440",
   "metadata": {},
   "source": [
    "#### Section C: Exploring Pandas"
   ]
  },
  {
   "cell_type": "markdown",
   "id": "a4b4604b-20cd-4489-8a2d-47511350734f",
   "metadata": {},
   "source": [
    "##### 11.\tCreate a small DataFrame manually with 10 rows and columns: 'Name', 'Age', 'City', and 'Salary'. Then:\n",
    "- Use .info(), .describe()\n",
    "- Select 'Name' and 'City' columns\n",
    "- Drop 'City' column\n",
    "- Fill any missing values in 'Salary' column with the mean\n",
    "- Remove any duplicate rows\n"
   ]
  },
  {
   "cell_type": "code",
   "execution_count": 115,
   "id": "7c7aeb48-97fa-41df-aa25-8059c4a1219b",
   "metadata": {},
   "outputs": [
    {
     "name": "stdout",
     "output_type": "stream",
     "text": [
      "DataFrame:\n",
      "\n"
     ]
    },
    {
     "data": {
      "text/html": [
       "<div>\n",
       "<style scoped>\n",
       "    .dataframe tbody tr th:only-of-type {\n",
       "        vertical-align: middle;\n",
       "    }\n",
       "\n",
       "    .dataframe tbody tr th {\n",
       "        vertical-align: top;\n",
       "    }\n",
       "\n",
       "    .dataframe thead th {\n",
       "        text-align: right;\n",
       "    }\n",
       "</style>\n",
       "<table border=\"1\" class=\"dataframe\">\n",
       "  <thead>\n",
       "    <tr style=\"text-align: right;\">\n",
       "      <th></th>\n",
       "      <th>Name</th>\n",
       "      <th>Age</th>\n",
       "      <th>City</th>\n",
       "      <th>Salary</th>\n",
       "    </tr>\n",
       "  </thead>\n",
       "  <tbody>\n",
       "    <tr>\n",
       "      <th>0</th>\n",
       "      <td>Perisetla</td>\n",
       "      <td>21</td>\n",
       "      <td>Nellore</td>\n",
       "      <td>50000.0</td>\n",
       "    </tr>\n",
       "    <tr>\n",
       "      <th>1</th>\n",
       "      <td>Sri</td>\n",
       "      <td>20</td>\n",
       "      <td>Banglore</td>\n",
       "      <td>60000.0</td>\n",
       "    </tr>\n",
       "    <tr>\n",
       "      <th>2</th>\n",
       "      <td>Sai</td>\n",
       "      <td>30</td>\n",
       "      <td>Hyderabad</td>\n",
       "      <td>NaN</td>\n",
       "    </tr>\n",
       "    <tr>\n",
       "      <th>3</th>\n",
       "      <td>Yagnik</td>\n",
       "      <td>21</td>\n",
       "      <td>Chennai</td>\n",
       "      <td>80000.0</td>\n",
       "    </tr>\n",
       "    <tr>\n",
       "      <th>4</th>\n",
       "      <td>Abhi</td>\n",
       "      <td>18</td>\n",
       "      <td>Mumbai</td>\n",
       "      <td>55000.0</td>\n",
       "    </tr>\n",
       "    <tr>\n",
       "      <th>5</th>\n",
       "      <td>Sri</td>\n",
       "      <td>20</td>\n",
       "      <td>Banglore</td>\n",
       "      <td>60000.0</td>\n",
       "    </tr>\n",
       "    <tr>\n",
       "      <th>6</th>\n",
       "      <td>Nunna</td>\n",
       "      <td>14</td>\n",
       "      <td>Delhi</td>\n",
       "      <td>60000.0</td>\n",
       "    </tr>\n",
       "    <tr>\n",
       "      <th>7</th>\n",
       "      <td>Ashu</td>\n",
       "      <td>16</td>\n",
       "      <td>Pondi</td>\n",
       "      <td>80000.0</td>\n",
       "    </tr>\n",
       "    <tr>\n",
       "      <th>8</th>\n",
       "      <td>Vasi</td>\n",
       "      <td>25</td>\n",
       "      <td>Banglore</td>\n",
       "      <td>NaN</td>\n",
       "    </tr>\n",
       "    <tr>\n",
       "      <th>9</th>\n",
       "      <td>Nunna</td>\n",
       "      <td>14</td>\n",
       "      <td>Delhi</td>\n",
       "      <td>60000.0</td>\n",
       "    </tr>\n",
       "  </tbody>\n",
       "</table>\n",
       "</div>"
      ],
      "text/plain": [
       "        Name  Age       City   Salary\n",
       "0  Perisetla   21    Nellore  50000.0\n",
       "1        Sri   20   Banglore  60000.0\n",
       "2        Sai   30  Hyderabad      NaN\n",
       "3     Yagnik   21    Chennai  80000.0\n",
       "4       Abhi   18     Mumbai  55000.0\n",
       "5        Sri   20   Banglore  60000.0\n",
       "6      Nunna   14      Delhi  60000.0\n",
       "7       Ashu   16      Pondi  80000.0\n",
       "8       Vasi   25   Banglore      NaN\n",
       "9      Nunna   14      Delhi  60000.0"
      ]
     },
     "execution_count": 115,
     "metadata": {},
     "output_type": "execute_result"
    }
   ],
   "source": [
    "Data = {\n",
    "    'Name': ['Perisetla','Sri','Sai','Yagnik','Abhi','Sri','Nunna','Ashu','Vasi','Nunna'],\n",
    "    'Age': [21,20,30,21,18,20,14,16,25,14],\n",
    "    'City': ['Nellore','Banglore','Hyderabad','Chennai','Mumbai','Banglore','Delhi','Pondi','Banglore','Delhi'], \n",
    "    'Salary': [50000,60000,np.nan,80000,55000,60000,60000,80000,np.nan,60000]    \n",
    "}\n",
    "df = pd.DataFrame(Data)\n",
    "print(\"DataFrame:\\n\")\n",
    "df"
   ]
  },
  {
   "cell_type": "code",
   "execution_count": 116,
   "id": "08a56812-c086-4975-b3d2-57f03ffe6897",
   "metadata": {},
   "outputs": [
    {
     "name": "stdout",
     "output_type": "stream",
     "text": [
      "DataFrame Info:\n",
      "\n",
      "<class 'pandas.core.frame.DataFrame'>\n",
      "RangeIndex: 10 entries, 0 to 9\n",
      "Data columns (total 4 columns):\n",
      " #   Column  Non-Null Count  Dtype  \n",
      "---  ------  --------------  -----  \n",
      " 0   Name    10 non-null     object \n",
      " 1   Age     10 non-null     int64  \n",
      " 2   City    10 non-null     object \n",
      " 3   Salary  8 non-null      float64\n",
      "dtypes: float64(1), int64(1), object(2)\n",
      "memory usage: 452.0+ bytes\n"
     ]
    }
   ],
   "source": [
    "print(\"DataFrame Info:\\n\")\n",
    "df.info()"
   ]
  },
  {
   "cell_type": "code",
   "execution_count": 117,
   "id": "f8e01a16-d642-45ec-ba53-5681da5aac90",
   "metadata": {},
   "outputs": [
    {
     "name": "stdout",
     "output_type": "stream",
     "text": [
      "DataFrame Describe:\n",
      "\n"
     ]
    },
    {
     "data": {
      "text/html": [
       "<div>\n",
       "<style scoped>\n",
       "    .dataframe tbody tr th:only-of-type {\n",
       "        vertical-align: middle;\n",
       "    }\n",
       "\n",
       "    .dataframe tbody tr th {\n",
       "        vertical-align: top;\n",
       "    }\n",
       "\n",
       "    .dataframe thead th {\n",
       "        text-align: right;\n",
       "    }\n",
       "</style>\n",
       "<table border=\"1\" class=\"dataframe\">\n",
       "  <thead>\n",
       "    <tr style=\"text-align: right;\">\n",
       "      <th></th>\n",
       "      <th>Age</th>\n",
       "      <th>Salary</th>\n",
       "    </tr>\n",
       "  </thead>\n",
       "  <tbody>\n",
       "    <tr>\n",
       "      <th>count</th>\n",
       "      <td>10.000000</td>\n",
       "      <td>8.000000</td>\n",
       "    </tr>\n",
       "    <tr>\n",
       "      <th>mean</th>\n",
       "      <td>19.900000</td>\n",
       "      <td>63125.000000</td>\n",
       "    </tr>\n",
       "    <tr>\n",
       "      <th>std</th>\n",
       "      <td>4.931757</td>\n",
       "      <td>10999.188282</td>\n",
       "    </tr>\n",
       "    <tr>\n",
       "      <th>min</th>\n",
       "      <td>14.000000</td>\n",
       "      <td>50000.000000</td>\n",
       "    </tr>\n",
       "    <tr>\n",
       "      <th>25%</th>\n",
       "      <td>16.500000</td>\n",
       "      <td>58750.000000</td>\n",
       "    </tr>\n",
       "    <tr>\n",
       "      <th>50%</th>\n",
       "      <td>20.000000</td>\n",
       "      <td>60000.000000</td>\n",
       "    </tr>\n",
       "    <tr>\n",
       "      <th>75%</th>\n",
       "      <td>21.000000</td>\n",
       "      <td>65000.000000</td>\n",
       "    </tr>\n",
       "    <tr>\n",
       "      <th>max</th>\n",
       "      <td>30.000000</td>\n",
       "      <td>80000.000000</td>\n",
       "    </tr>\n",
       "  </tbody>\n",
       "</table>\n",
       "</div>"
      ],
      "text/plain": [
       "             Age        Salary\n",
       "count  10.000000      8.000000\n",
       "mean   19.900000  63125.000000\n",
       "std     4.931757  10999.188282\n",
       "min    14.000000  50000.000000\n",
       "25%    16.500000  58750.000000\n",
       "50%    20.000000  60000.000000\n",
       "75%    21.000000  65000.000000\n",
       "max    30.000000  80000.000000"
      ]
     },
     "execution_count": 117,
     "metadata": {},
     "output_type": "execute_result"
    }
   ],
   "source": [
    "print(\"DataFrame Describe:\\n\")\n",
    "df.describe()"
   ]
  },
  {
   "cell_type": "code",
   "execution_count": 118,
   "id": "6fc49311-b6d5-4acf-937a-c9666141560d",
   "metadata": {},
   "outputs": [
    {
     "name": "stdout",
     "output_type": "stream",
     "text": [
      "Selected Columns Name and City: \n",
      "\n"
     ]
    },
    {
     "data": {
      "text/html": [
       "<div>\n",
       "<style scoped>\n",
       "    .dataframe tbody tr th:only-of-type {\n",
       "        vertical-align: middle;\n",
       "    }\n",
       "\n",
       "    .dataframe tbody tr th {\n",
       "        vertical-align: top;\n",
       "    }\n",
       "\n",
       "    .dataframe thead th {\n",
       "        text-align: right;\n",
       "    }\n",
       "</style>\n",
       "<table border=\"1\" class=\"dataframe\">\n",
       "  <thead>\n",
       "    <tr style=\"text-align: right;\">\n",
       "      <th></th>\n",
       "      <th>Name</th>\n",
       "      <th>City</th>\n",
       "    </tr>\n",
       "  </thead>\n",
       "  <tbody>\n",
       "    <tr>\n",
       "      <th>0</th>\n",
       "      <td>Perisetla</td>\n",
       "      <td>Nellore</td>\n",
       "    </tr>\n",
       "    <tr>\n",
       "      <th>1</th>\n",
       "      <td>Sri</td>\n",
       "      <td>Banglore</td>\n",
       "    </tr>\n",
       "    <tr>\n",
       "      <th>2</th>\n",
       "      <td>Sai</td>\n",
       "      <td>Hyderabad</td>\n",
       "    </tr>\n",
       "    <tr>\n",
       "      <th>3</th>\n",
       "      <td>Yagnik</td>\n",
       "      <td>Chennai</td>\n",
       "    </tr>\n",
       "    <tr>\n",
       "      <th>4</th>\n",
       "      <td>Abhi</td>\n",
       "      <td>Mumbai</td>\n",
       "    </tr>\n",
       "    <tr>\n",
       "      <th>5</th>\n",
       "      <td>Sri</td>\n",
       "      <td>Banglore</td>\n",
       "    </tr>\n",
       "    <tr>\n",
       "      <th>6</th>\n",
       "      <td>Nunna</td>\n",
       "      <td>Delhi</td>\n",
       "    </tr>\n",
       "    <tr>\n",
       "      <th>7</th>\n",
       "      <td>Ashu</td>\n",
       "      <td>Pondi</td>\n",
       "    </tr>\n",
       "    <tr>\n",
       "      <th>8</th>\n",
       "      <td>Vasi</td>\n",
       "      <td>Banglore</td>\n",
       "    </tr>\n",
       "    <tr>\n",
       "      <th>9</th>\n",
       "      <td>Nunna</td>\n",
       "      <td>Delhi</td>\n",
       "    </tr>\n",
       "  </tbody>\n",
       "</table>\n",
       "</div>"
      ],
      "text/plain": [
       "        Name       City\n",
       "0  Perisetla    Nellore\n",
       "1        Sri   Banglore\n",
       "2        Sai  Hyderabad\n",
       "3     Yagnik    Chennai\n",
       "4       Abhi     Mumbai\n",
       "5        Sri   Banglore\n",
       "6      Nunna      Delhi\n",
       "7       Ashu      Pondi\n",
       "8       Vasi   Banglore\n",
       "9      Nunna      Delhi"
      ]
     },
     "execution_count": 118,
     "metadata": {},
     "output_type": "execute_result"
    }
   ],
   "source": [
    "print(\"Selected Columns Name and City: \\n\")\n",
    "df[['Name','City']]"
   ]
  },
  {
   "cell_type": "code",
   "execution_count": 119,
   "id": "2cd351f5-59c5-4a63-8eb3-074cafa9c890",
   "metadata": {},
   "outputs": [
    {
     "name": "stdout",
     "output_type": "stream",
     "text": [
      "Dropping city: \n",
      "\n"
     ]
    },
    {
     "data": {
      "text/html": [
       "<div>\n",
       "<style scoped>\n",
       "    .dataframe tbody tr th:only-of-type {\n",
       "        vertical-align: middle;\n",
       "    }\n",
       "\n",
       "    .dataframe tbody tr th {\n",
       "        vertical-align: top;\n",
       "    }\n",
       "\n",
       "    .dataframe thead th {\n",
       "        text-align: right;\n",
       "    }\n",
       "</style>\n",
       "<table border=\"1\" class=\"dataframe\">\n",
       "  <thead>\n",
       "    <tr style=\"text-align: right;\">\n",
       "      <th></th>\n",
       "      <th>Name</th>\n",
       "      <th>Age</th>\n",
       "      <th>Salary</th>\n",
       "    </tr>\n",
       "  </thead>\n",
       "  <tbody>\n",
       "    <tr>\n",
       "      <th>0</th>\n",
       "      <td>Perisetla</td>\n",
       "      <td>21</td>\n",
       "      <td>50000.0</td>\n",
       "    </tr>\n",
       "    <tr>\n",
       "      <th>1</th>\n",
       "      <td>Sri</td>\n",
       "      <td>20</td>\n",
       "      <td>60000.0</td>\n",
       "    </tr>\n",
       "    <tr>\n",
       "      <th>2</th>\n",
       "      <td>Sai</td>\n",
       "      <td>30</td>\n",
       "      <td>NaN</td>\n",
       "    </tr>\n",
       "    <tr>\n",
       "      <th>3</th>\n",
       "      <td>Yagnik</td>\n",
       "      <td>21</td>\n",
       "      <td>80000.0</td>\n",
       "    </tr>\n",
       "    <tr>\n",
       "      <th>4</th>\n",
       "      <td>Abhi</td>\n",
       "      <td>18</td>\n",
       "      <td>55000.0</td>\n",
       "    </tr>\n",
       "    <tr>\n",
       "      <th>5</th>\n",
       "      <td>Sri</td>\n",
       "      <td>20</td>\n",
       "      <td>60000.0</td>\n",
       "    </tr>\n",
       "    <tr>\n",
       "      <th>6</th>\n",
       "      <td>Nunna</td>\n",
       "      <td>14</td>\n",
       "      <td>60000.0</td>\n",
       "    </tr>\n",
       "    <tr>\n",
       "      <th>7</th>\n",
       "      <td>Ashu</td>\n",
       "      <td>16</td>\n",
       "      <td>80000.0</td>\n",
       "    </tr>\n",
       "    <tr>\n",
       "      <th>8</th>\n",
       "      <td>Vasi</td>\n",
       "      <td>25</td>\n",
       "      <td>NaN</td>\n",
       "    </tr>\n",
       "    <tr>\n",
       "      <th>9</th>\n",
       "      <td>Nunna</td>\n",
       "      <td>14</td>\n",
       "      <td>60000.0</td>\n",
       "    </tr>\n",
       "  </tbody>\n",
       "</table>\n",
       "</div>"
      ],
      "text/plain": [
       "        Name  Age   Salary\n",
       "0  Perisetla   21  50000.0\n",
       "1        Sri   20  60000.0\n",
       "2        Sai   30      NaN\n",
       "3     Yagnik   21  80000.0\n",
       "4       Abhi   18  55000.0\n",
       "5        Sri   20  60000.0\n",
       "6      Nunna   14  60000.0\n",
       "7       Ashu   16  80000.0\n",
       "8       Vasi   25      NaN\n",
       "9      Nunna   14  60000.0"
      ]
     },
     "execution_count": 119,
     "metadata": {},
     "output_type": "execute_result"
    }
   ],
   "source": [
    "drop = df.drop(columns=['City'])\n",
    "print(\"Dropping city: \\n\")\n",
    "drop"
   ]
  },
  {
   "cell_type": "code",
   "execution_count": 120,
   "id": "85d95924-5729-422b-9c8f-6ed1555bbeab",
   "metadata": {},
   "outputs": [
    {
     "data": {
      "text/plain": [
       "Name      0\n",
       "Age       0\n",
       "City      0\n",
       "Salary    2\n",
       "dtype: int64"
      ]
     },
     "execution_count": 120,
     "metadata": {},
     "output_type": "execute_result"
    }
   ],
   "source": [
    "df.isnull().sum()"
   ]
  },
  {
   "cell_type": "code",
   "execution_count": 121,
   "id": "c0f34019-4b11-45b7-b4cf-d7001dba45aa",
   "metadata": {},
   "outputs": [
    {
     "name": "stdout",
     "output_type": "stream",
     "text": [
      "Filling missing values in Salary column with the mean\n"
     ]
    },
    {
     "data": {
      "text/html": [
       "<div>\n",
       "<style scoped>\n",
       "    .dataframe tbody tr th:only-of-type {\n",
       "        vertical-align: middle;\n",
       "    }\n",
       "\n",
       "    .dataframe tbody tr th {\n",
       "        vertical-align: top;\n",
       "    }\n",
       "\n",
       "    .dataframe thead th {\n",
       "        text-align: right;\n",
       "    }\n",
       "</style>\n",
       "<table border=\"1\" class=\"dataframe\">\n",
       "  <thead>\n",
       "    <tr style=\"text-align: right;\">\n",
       "      <th></th>\n",
       "      <th>Name</th>\n",
       "      <th>Age</th>\n",
       "      <th>City</th>\n",
       "      <th>Salary</th>\n",
       "    </tr>\n",
       "  </thead>\n",
       "  <tbody>\n",
       "    <tr>\n",
       "      <th>0</th>\n",
       "      <td>Perisetla</td>\n",
       "      <td>21</td>\n",
       "      <td>Nellore</td>\n",
       "      <td>50000.0</td>\n",
       "    </tr>\n",
       "    <tr>\n",
       "      <th>1</th>\n",
       "      <td>Sri</td>\n",
       "      <td>20</td>\n",
       "      <td>Banglore</td>\n",
       "      <td>60000.0</td>\n",
       "    </tr>\n",
       "    <tr>\n",
       "      <th>2</th>\n",
       "      <td>Sai</td>\n",
       "      <td>30</td>\n",
       "      <td>Hyderabad</td>\n",
       "      <td>63125.0</td>\n",
       "    </tr>\n",
       "    <tr>\n",
       "      <th>3</th>\n",
       "      <td>Yagnik</td>\n",
       "      <td>21</td>\n",
       "      <td>Chennai</td>\n",
       "      <td>80000.0</td>\n",
       "    </tr>\n",
       "    <tr>\n",
       "      <th>4</th>\n",
       "      <td>Abhi</td>\n",
       "      <td>18</td>\n",
       "      <td>Mumbai</td>\n",
       "      <td>55000.0</td>\n",
       "    </tr>\n",
       "    <tr>\n",
       "      <th>5</th>\n",
       "      <td>Sri</td>\n",
       "      <td>20</td>\n",
       "      <td>Banglore</td>\n",
       "      <td>60000.0</td>\n",
       "    </tr>\n",
       "    <tr>\n",
       "      <th>6</th>\n",
       "      <td>Nunna</td>\n",
       "      <td>14</td>\n",
       "      <td>Delhi</td>\n",
       "      <td>60000.0</td>\n",
       "    </tr>\n",
       "    <tr>\n",
       "      <th>7</th>\n",
       "      <td>Ashu</td>\n",
       "      <td>16</td>\n",
       "      <td>Pondi</td>\n",
       "      <td>80000.0</td>\n",
       "    </tr>\n",
       "    <tr>\n",
       "      <th>8</th>\n",
       "      <td>Vasi</td>\n",
       "      <td>25</td>\n",
       "      <td>Banglore</td>\n",
       "      <td>63125.0</td>\n",
       "    </tr>\n",
       "    <tr>\n",
       "      <th>9</th>\n",
       "      <td>Nunna</td>\n",
       "      <td>14</td>\n",
       "      <td>Delhi</td>\n",
       "      <td>60000.0</td>\n",
       "    </tr>\n",
       "  </tbody>\n",
       "</table>\n",
       "</div>"
      ],
      "text/plain": [
       "        Name  Age       City   Salary\n",
       "0  Perisetla   21    Nellore  50000.0\n",
       "1        Sri   20   Banglore  60000.0\n",
       "2        Sai   30  Hyderabad  63125.0\n",
       "3     Yagnik   21    Chennai  80000.0\n",
       "4       Abhi   18     Mumbai  55000.0\n",
       "5        Sri   20   Banglore  60000.0\n",
       "6      Nunna   14      Delhi  60000.0\n",
       "7       Ashu   16      Pondi  80000.0\n",
       "8       Vasi   25   Banglore  63125.0\n",
       "9      Nunna   14      Delhi  60000.0"
      ]
     },
     "execution_count": 121,
     "metadata": {},
     "output_type": "execute_result"
    }
   ],
   "source": [
    "df['Salary'] = df['Salary'].fillna(df['Salary'].mean())\n",
    "print(\"Filling missing values in Salary column with the mean\")\n",
    "df"
   ]
  },
  {
   "cell_type": "code",
   "execution_count": 122,
   "id": "ef960a4b-30d3-4ec0-9877-a5472df5a712",
   "metadata": {},
   "outputs": [
    {
     "data": {
      "text/plain": [
       "2"
      ]
     },
     "execution_count": 122,
     "metadata": {},
     "output_type": "execute_result"
    }
   ],
   "source": [
    "df.duplicated().sum()"
   ]
  },
  {
   "cell_type": "code",
   "execution_count": 124,
   "id": "55706e66-2812-483b-b1dd-2b2ba047078b",
   "metadata": {},
   "outputs": [
    {
     "name": "stdout",
     "output_type": "stream",
     "text": [
      "Removed Duplicated Rows: \n",
      "\n"
     ]
    },
    {
     "data": {
      "text/html": [
       "<div>\n",
       "<style scoped>\n",
       "    .dataframe tbody tr th:only-of-type {\n",
       "        vertical-align: middle;\n",
       "    }\n",
       "\n",
       "    .dataframe tbody tr th {\n",
       "        vertical-align: top;\n",
       "    }\n",
       "\n",
       "    .dataframe thead th {\n",
       "        text-align: right;\n",
       "    }\n",
       "</style>\n",
       "<table border=\"1\" class=\"dataframe\">\n",
       "  <thead>\n",
       "    <tr style=\"text-align: right;\">\n",
       "      <th></th>\n",
       "      <th>Name</th>\n",
       "      <th>Age</th>\n",
       "      <th>City</th>\n",
       "      <th>Salary</th>\n",
       "    </tr>\n",
       "  </thead>\n",
       "  <tbody>\n",
       "    <tr>\n",
       "      <th>0</th>\n",
       "      <td>Perisetla</td>\n",
       "      <td>21</td>\n",
       "      <td>Nellore</td>\n",
       "      <td>50000.0</td>\n",
       "    </tr>\n",
       "    <tr>\n",
       "      <th>1</th>\n",
       "      <td>Sri</td>\n",
       "      <td>20</td>\n",
       "      <td>Banglore</td>\n",
       "      <td>60000.0</td>\n",
       "    </tr>\n",
       "    <tr>\n",
       "      <th>2</th>\n",
       "      <td>Sai</td>\n",
       "      <td>30</td>\n",
       "      <td>Hyderabad</td>\n",
       "      <td>63125.0</td>\n",
       "    </tr>\n",
       "    <tr>\n",
       "      <th>3</th>\n",
       "      <td>Yagnik</td>\n",
       "      <td>21</td>\n",
       "      <td>Chennai</td>\n",
       "      <td>80000.0</td>\n",
       "    </tr>\n",
       "    <tr>\n",
       "      <th>4</th>\n",
       "      <td>Abhi</td>\n",
       "      <td>18</td>\n",
       "      <td>Mumbai</td>\n",
       "      <td>55000.0</td>\n",
       "    </tr>\n",
       "    <tr>\n",
       "      <th>6</th>\n",
       "      <td>Nunna</td>\n",
       "      <td>14</td>\n",
       "      <td>Delhi</td>\n",
       "      <td>60000.0</td>\n",
       "    </tr>\n",
       "    <tr>\n",
       "      <th>7</th>\n",
       "      <td>Ashu</td>\n",
       "      <td>16</td>\n",
       "      <td>Pondi</td>\n",
       "      <td>80000.0</td>\n",
       "    </tr>\n",
       "    <tr>\n",
       "      <th>8</th>\n",
       "      <td>Vasi</td>\n",
       "      <td>25</td>\n",
       "      <td>Banglore</td>\n",
       "      <td>63125.0</td>\n",
       "    </tr>\n",
       "  </tbody>\n",
       "</table>\n",
       "</div>"
      ],
      "text/plain": [
       "        Name  Age       City   Salary\n",
       "0  Perisetla   21    Nellore  50000.0\n",
       "1        Sri   20   Banglore  60000.0\n",
       "2        Sai   30  Hyderabad  63125.0\n",
       "3     Yagnik   21    Chennai  80000.0\n",
       "4       Abhi   18     Mumbai  55000.0\n",
       "6      Nunna   14      Delhi  60000.0\n",
       "7       Ashu   16      Pondi  80000.0\n",
       "8       Vasi   25   Banglore  63125.0"
      ]
     },
     "execution_count": 124,
     "metadata": {},
     "output_type": "execute_result"
    }
   ],
   "source": [
    "duplicates = df.drop_duplicates()\n",
    "print(\"Removed Duplicated Rows: \\n\")\n",
    "duplicates"
   ]
  },
  {
   "cell_type": "code",
   "execution_count": null,
   "id": "72b8dbda-1a24-4012-965f-aa7847185df7",
   "metadata": {},
   "outputs": [],
   "source": []
  }
 ],
 "metadata": {
  "kernelspec": {
   "display_name": "Python [conda env:base] *",
   "language": "python",
   "name": "conda-base-py"
  },
  "language_info": {
   "codemirror_mode": {
    "name": "ipython",
    "version": 3
   },
   "file_extension": ".py",
   "mimetype": "text/x-python",
   "name": "python",
   "nbconvert_exporter": "python",
   "pygments_lexer": "ipython3",
   "version": "3.12.7"
  }
 },
 "nbformat": 4,
 "nbformat_minor": 5
}
